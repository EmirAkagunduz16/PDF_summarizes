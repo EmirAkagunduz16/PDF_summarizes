{
 "cells": [
  {
   "cell_type": "markdown",
   "metadata": {},
   "source": []
  },
  {
   "cell_type": "code",
   "execution_count": 38,
   "metadata": {},
   "outputs": [
    {
     "ename": "TypeError",
     "evalue": "argument 'ids': Can't extract `str` to `Vec`",
     "output_type": "error",
     "traceback": [
      "\u001b[0;31m---------------------------------------------------------------------------\u001b[0m",
      "\u001b[0;31mTypeError\u001b[0m                                 Traceback (most recent call last)",
      "Cell \u001b[0;32mIn[38], line 16\u001b[0m\n\u001b[1;32m     13\u001b[0m     \u001b[38;5;28;01mraise\u001b[39;00m \u001b[38;5;167;01mValueError\u001b[39;00m(\u001b[38;5;124m\"\u001b[39m\u001b[38;5;124mToken \u001b[39m\u001b[38;5;124m'\u001b[39m\u001b[38;5;124m[SOS]\u001b[39m\u001b[38;5;124m'\u001b[39m\u001b[38;5;124m not found in the tokenizer vocabulary. Ensure it was added as a special token.\u001b[39m\u001b[38;5;124m\"\u001b[39m)\n\u001b[1;32m     15\u001b[0m sos_token \u001b[38;5;241m=\u001b[39m torch\u001b[38;5;241m.\u001b[39mtensor(tokenizer\u001b[38;5;241m.\u001b[39mtoken_to_id(\u001b[38;5;124m'\u001b[39m\u001b[38;5;124m[SOS]\u001b[39m\u001b[38;5;124m'\u001b[39m), dtype\u001b[38;5;241m=\u001b[39mtorch\u001b[38;5;241m.\u001b[39mint64)\n\u001b[0;32m---> 16\u001b[0m \u001b[43mtokenizer\u001b[49m\u001b[38;5;241;43m.\u001b[39;49m\u001b[43mdecode\u001b[49m\u001b[43m(\u001b[49m\u001b[38;5;124;43m'\u001b[39;49m\u001b[38;5;124;43m[EOS]\u001b[39;49m\u001b[38;5;124;43m'\u001b[39;49m\u001b[43m)\u001b[49m\n",
      "\u001b[0;31mTypeError\u001b[0m: argument 'ids': Can't extract `str` to `Vec`"
     ]
    }
   ],
   "source": [
    "from tokenizers import Tokenizer\n",
    "from pathlib import Path\n",
    "from models.config import get_config\n",
    "import torch\n",
    "\n",
    "config = get_config()\n",
    "tokenizer_path = Path(config['tokenizer_file'].format('en'))\n",
    "tokenizer = Tokenizer.from_file(str(tokenizer_path))\n",
    "\n",
    "# Attempt to retrieve the token ID for '[SOS]', and raise an informative error if not found\n",
    "sos_token_id = tokenizer.token_to_id('[SOS]')\n",
    "if sos_token_id is None:\n",
    "    raise ValueError(\"Token '[SOS]' not found in the tokenizer vocabulary. Ensure it was added as a special token.\")\n",
    "\n",
    "sos_token = torch.tensor(tokenizer.token_to_id('[SOS]'), dtype=torch.int64)\n",
    "tokenizer.decode('[EOS]')"
   ]
  },
  {
   "cell_type": "markdown",
   "metadata": {},
   "source": []
  },
  {
   "cell_type": "code",
   "execution_count": null,
   "metadata": {},
   "outputs": [],
   "source": []
  }
 ],
 "metadata": {
  "kernelspec": {
   "display_name": "Python 3",
   "language": "python",
   "name": "python3"
  },
  "language_info": {
   "codemirror_mode": {
    "name": "ipython",
    "version": 3
   },
   "file_extension": ".py",
   "mimetype": "text/x-python",
   "name": "python",
   "nbconvert_exporter": "python",
   "pygments_lexer": "ipython3",
   "version": "3.10.12"
  }
 },
 "nbformat": 4,
 "nbformat_minor": 2
}
